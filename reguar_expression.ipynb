{
 "cells": [
  {
   "cell_type": "code",
   "execution_count": 2,
   "metadata": {},
   "outputs": [
    {
     "data": {
      "text/plain": [
       "(273, 284)"
      ]
     },
     "execution_count": 2,
     "metadata": {},
     "output_type": "execute_result"
    }
   ],
   "source": [
    "\n",
    "string = \"The Euro STOXX 600 index, which tracks all stock markets across Europe including the FTSE, fell by 11.48% – the worst day since it launched in 1998. The panic selling prompted by the coronavirus has wiped £2.7tn off the value of STOXX 600 shares since its all-time peak on 19 February.\"\n",
    "import re\n",
    "result = re.search(r\".+\\s(.+ex).+(\\d\\d\\s.+).\", string)\n",
    "result.group(1)\n"
   ]
  },
  {
   "cell_type": "code",
   "execution_count": 4,
   "metadata": {},
   "outputs": [
    {
     "data": {
      "text/plain": [
       "'19 February'"
      ]
     },
     "execution_count": 4,
     "metadata": {},
     "output_type": "execute_result"
    }
   ],
   "source": [
    "result.group(2)\n"
   ]
  },
  {
   "cell_type": "code",
   "execution_count": 5,
   "metadata": {},
   "outputs": [
    {
     "data": {
      "text/plain": [
       "19"
      ]
     },
     "execution_count": 5,
     "metadata": {},
     "output_type": "execute_result"
    }
   ],
   "source": [
    "result.start(1)\n"
   ]
  },
  {
   "cell_type": "code",
   "execution_count": 8,
   "metadata": {},
   "outputs": [
    {
     "name": "stdout",
     "output_type": "stream",
     "text": [
      "273\n",
      "24\n",
      "284\n",
      "(19, 24)\n",
      "(273, 284)\n",
      "index\n",
      "19 February\n"
     ]
    }
   ],
   "source": [
    "print(result.start(2))\n",
    "print(result.end(1))\n",
    "print(result.end(2))\n",
    "print(result.span(1))\n",
    "print(result.span(2))\n",
    "print(string[19:24])\n",
    "print(string[273:284])"
   ]
  },
  {
   "cell_type": "code",
   "execution_count": 9,
   "metadata": {},
   "outputs": [
    {
     "name": "stdout",
     "output_type": "stream",
     "text": [
      "['the', 'the', 'the', 'the']\n",
      "['The', 'the', 'the', 'The', 'the', 'the']\n",
      "<re.Match object; span=(0, 5), match='Hello'>\n",
      "<re.Match object; span=(0, 12), match='Hello\\nPython'>\n",
      "('index', '19 February')\n"
     ]
    }
   ],
   "source": [
    "import re\n",
    "result = re.findall(r\"the\", string)\n",
    "print(result)\n",
    "result = re.findall(r\"the\", string, re.I)\n",
    "print(result)\n",
    "string2 = \"Hello\\nPython\"\n",
    "result = re.search(r\".+\", string2)\n",
    "print(result)\n",
    "result = re.search(r\".+\", string2, re.S)\n",
    "print(result)\n",
    "result = re.search(r\"\"\".+\\s #Beginning of the string\n",
    "\t\t\t(.+ex) #Searching for index\n",
    "\t\t\t.+ #Middle of the string\n",
    "\t\t\t(\\d\\d\\s.+). #Date at the end\"\"\", string, re.X)\n",
    "print(result.groups())\n"
   ]
  }
 ],
 "metadata": {
  "kernelspec": {
   "display_name": "Python 3",
   "language": "python",
   "name": "python3"
  },
  "language_info": {
   "codemirror_mode": {
    "name": "ipython",
    "version": 3
   },
   "file_extension": ".py",
   "mimetype": "text/x-python",
   "name": "python",
   "nbconvert_exporter": "python",
   "pygments_lexer": "ipython3",
   "version": "3.11.4"
  }
 },
 "nbformat": 4,
 "nbformat_minor": 2
}
